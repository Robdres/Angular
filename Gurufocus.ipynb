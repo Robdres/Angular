{
  "cells": [
    {
      "cell_type": "markdown",
      "metadata": {
        "id": "view-in-github",
        "colab_type": "text"
      },
      "source": [
        "<a href=\"https://colab.research.google.com/github/Robdres/Angular/blob/main/Gurufocus.ipynb\" target=\"_parent\"><img src=\"https://colab.research.google.com/assets/colab-badge.svg\" alt=\"Open In Colab\"/></a>"
      ]
    },
    {
      "cell_type": "code",
      "source": [
        "!pip3 install alive_progress"
      ],
      "metadata": {
        "colab": {
          "base_uri": "https://localhost:8080/"
        },
        "id": "407gn5CWxttt",
        "outputId": "3376ff81-e9f5-4f2a-8ae3-a2121273751a"
      },
      "id": "407gn5CWxttt",
      "execution_count": null,
      "outputs": [
        {
          "output_type": "stream",
          "name": "stdout",
          "text": [
            "Looking in indexes: https://pypi.org/simple, https://us-python.pkg.dev/colab-wheels/public/simple/\n",
            "Collecting alive_progress\n",
            "  Downloading alive_progress-3.1.2-py3-none-any.whl (75 kB)\n",
            "\u001b[2K     \u001b[90m━━━━━━━━━━━━━━━━━━━━━━━━━━━━━━━━━━━━━━━━\u001b[0m \u001b[32m75.7/75.7 kB\u001b[0m \u001b[31m4.7 MB/s\u001b[0m eta \u001b[36m0:00:00\u001b[0m\n",
            "\u001b[?25hCollecting about-time==4.2.1 (from alive_progress)\n",
            "  Downloading about_time-4.2.1-py3-none-any.whl (13 kB)\n",
            "Collecting grapheme==0.6.0 (from alive_progress)\n",
            "  Downloading grapheme-0.6.0.tar.gz (207 kB)\n",
            "\u001b[2K     \u001b[90m━━━━━━━━━━━━━━━━━━━━━━━━━━━━━━━━━━━━━━\u001b[0m \u001b[32m207.3/207.3 kB\u001b[0m \u001b[31m13.9 MB/s\u001b[0m eta \u001b[36m0:00:00\u001b[0m\n",
            "\u001b[?25h  Preparing metadata (setup.py) ... \u001b[?25l\u001b[?25hdone\n",
            "Building wheels for collected packages: grapheme\n",
            "  Building wheel for grapheme (setup.py) ... \u001b[?25l\u001b[?25hdone\n",
            "  Created wheel for grapheme: filename=grapheme-0.6.0-py3-none-any.whl size=210079 sha256=b5e1de854361568bd514c2adcc4bd4adf512e25964182a6b1dc7465817fc8b6b\n",
            "  Stored in directory: /root/.cache/pip/wheels/01/e1/49/37e6bde9886439057450c494a79b0bef8bbe897a54aebfc757\n",
            "Successfully built grapheme\n",
            "Installing collected packages: grapheme, about-time, alive_progress\n",
            "Successfully installed about-time-4.2.1 alive_progress-3.1.2 grapheme-0.6.0\n"
          ]
        }
      ]
    },
    {
      "cell_type": "code",
      "execution_count": null,
      "id": "5278e520-0256-43f5-9721-114929838c87",
      "metadata": {
        "tags": [],
        "id": "5278e520-0256-43f5-9721-114929838c87"
      },
      "outputs": [],
      "source": [
        "!pip3 install alive_progress\n",
        "import requests\n",
        "import pandas as pd\n",
        "import json\n",
        "import matplotlib.pyplot as plt\n",
        "from alive_progress import alive_bar\n",
        "import numpy as np\n",
        "\n",
        "api_token = \"<api-token>\""
      ]
    },
    {
      "cell_type": "code",
      "execution_count": null,
      "id": "c31a38a5-320f-4ae1-acaf-6023bb8fe95d",
      "metadata": {
        "tags": [],
        "id": "c31a38a5-320f-4ae1-acaf-6023bb8fe95d"
      },
      "outputs": [],
      "source": [
        "symbols = ['AAPL','ANET','ASML',\"CHGCY\",\"KO\",\"COST\",\"DLICY\",\"DTEGN\",\"LLY\",\"XOM\",\"RACE\",\"GETIB\",\"HON\",\"ITX\",\"JPM\",\"LGFRY\",\"OREP\",\"LULU\",\"MQG\",\"MSFT\",\"MSCI\",\"NESN\",\"NKE\",\"NTDOY\",\"NOVO\",\"ORSTED\",\"RIO\",\"SSDIF\",\"SHIN\",\"TCS\",\"TE\",\"V\",\"WEGE3\",\"WLSN\"]"
      ]
    },
    {
      "cell_type": "code",
      "execution_count": null,
      "id": "1c0baa08-f1d8-4eef-ab30-63c9997afc82",
      "metadata": {
        "tags": [],
        "id": "1c0baa08-f1d8-4eef-ab30-63c9997afc82",
        "outputId": "a5a02e73-5478-497a-c741-2020b40aaaf6"
      },
      "outputs": [
        {
          "data": {
            "text/plain": [
              "36"
            ]
          },
          "execution_count": 3,
          "metadata": {},
          "output_type": "execute_result"
        }
      ],
      "source": [
        "len(symbols)"
      ]
    },
    {
      "cell_type": "markdown",
      "id": "63351fce-5c16-45e8-8471-da9a1f3a675d",
      "metadata": {
        "id": "63351fce-5c16-45e8-8471-da9a1f3a675d"
      },
      "source": [
        "# Get indicators"
      ]
    },
    {
      "cell_type": "code",
      "execution_count": null,
      "id": "14d2445d-014b-4bf9-a026-3df20f1e9f3b",
      "metadata": {
        "tags": [],
        "id": "14d2445d-014b-4bf9-a026-3df20f1e9f3b"
      },
      "outputs": [],
      "source": [
        "# DO not run again\n",
        "indicators =requests.get(f'https://api.gurufocus.com/public/user/{api_token}/stock/indicators')\n",
        "content = indicators.content\n",
        "data = json.loads(content.decode('utf8'))"
      ]
    },
    {
      "cell_type": "code",
      "execution_count": null,
      "id": "77ab08fa-4619-4767-b85d-7a293eb9a635",
      "metadata": {
        "tags": [],
        "id": "77ab08fa-4619-4767-b85d-7a293eb9a635",
        "outputId": "983badbb-ce18-46d5-9625-0b22ee1cd195"
      },
      "outputs": [
        {
          "data": {
            "text/html": [
              "<div>\n",
              "<style scoped>\n",
              "    .dataframe tbody tr th:only-of-type {\n",
              "        vertical-align: middle;\n",
              "    }\n",
              "\n",
              "    .dataframe tbody tr th {\n",
              "        vertical-align: top;\n",
              "    }\n",
              "\n",
              "    .dataframe thead th {\n",
              "        text-align: right;\n",
              "    }\n",
              "</style>\n",
              "<table border=\"1\" class=\"dataframe\">\n",
              "  <thead>\n",
              "    <tr style=\"text-align: right;\">\n",
              "      <th></th>\n",
              "      <th>Unnamed: 0</th>\n",
              "      <th>key</th>\n",
              "      <th>name</th>\n",
              "    </tr>\n",
              "  </thead>\n",
              "  <tbody>\n",
              "    <tr>\n",
              "      <th>0</th>\n",
              "      <td>0</td>\n",
              "      <td>price</td>\n",
              "      <td>Price</td>\n",
              "    </tr>\n",
              "    <tr>\n",
              "      <th>1</th>\n",
              "      <td>1</td>\n",
              "      <td>revenue</td>\n",
              "      <td>Revenue</td>\n",
              "    </tr>\n",
              "    <tr>\n",
              "      <th>2</th>\n",
              "      <td>2</td>\n",
              "      <td>revenue_estimate</td>\n",
              "      <td>Revenue with Estimate</td>\n",
              "    </tr>\n",
              "    <tr>\n",
              "      <th>3</th>\n",
              "      <td>3</td>\n",
              "      <td>net_income</td>\n",
              "      <td>Net Income</td>\n",
              "    </tr>\n",
              "    <tr>\n",
              "      <th>4</th>\n",
              "      <td>4</td>\n",
              "      <td>pettm</td>\n",
              "      <td>PE Ratio (TTM)</td>\n",
              "    </tr>\n",
              "    <tr>\n",
              "      <th>...</th>\n",
              "      <td>...</td>\n",
              "      <td>...</td>\n",
              "      <td>...</td>\n",
              "    </tr>\n",
              "    <tr>\n",
              "      <th>231</th>\n",
              "      <td>231</td>\n",
              "      <td>guru_buy</td>\n",
              "      <td>Number of Premium Guru Buys</td>\n",
              "    </tr>\n",
              "    <tr>\n",
              "      <th>232</th>\n",
              "      <td>232</td>\n",
              "      <td>guru_hold</td>\n",
              "      <td>Number of Premium Guru Holds</td>\n",
              "    </tr>\n",
              "    <tr>\n",
              "      <th>233</th>\n",
              "      <td>233</td>\n",
              "      <td>guru_buy_volume</td>\n",
              "      <td>Shares of Premium Guru Buys</td>\n",
              "    </tr>\n",
              "    <tr>\n",
              "      <th>234</th>\n",
              "      <td>234</td>\n",
              "      <td>guru_sell_volume</td>\n",
              "      <td>Shares of Premium Guru Sells</td>\n",
              "    </tr>\n",
              "    <tr>\n",
              "      <th>235</th>\n",
              "      <td>235</td>\n",
              "      <td>guru_hold_volume</td>\n",
              "      <td>Shares of Premium Guru Holds</td>\n",
              "    </tr>\n",
              "  </tbody>\n",
              "</table>\n",
              "<p>236 rows × 3 columns</p>\n",
              "</div>"
            ],
            "text/plain": [
              "     Unnamed: 0               key                          name\n",
              "0             0             price                         Price\n",
              "1             1           revenue                       Revenue\n",
              "2             2  revenue_estimate         Revenue with Estimate\n",
              "3             3        net_income                    Net Income\n",
              "4             4             pettm                PE Ratio (TTM)\n",
              "..          ...               ...                           ...\n",
              "231         231          guru_buy   Number of Premium Guru Buys\n",
              "232         232         guru_hold  Number of Premium Guru Holds\n",
              "233         233   guru_buy_volume   Shares of Premium Guru Buys\n",
              "234         234  guru_sell_volume  Shares of Premium Guru Sells\n",
              "235         235  guru_hold_volume  Shares of Premium Guru Holds\n",
              "\n",
              "[236 rows x 3 columns]"
            ]
          },
          "execution_count": 9,
          "metadata": {},
          "output_type": "execute_result"
        }
      ],
      "source": [
        "indicators = pd.read_csv(\"indicators.csv\")\n",
        "indicators"
      ]
    },
    {
      "cell_type": "markdown",
      "id": "01115789-cae2-4519-95d3-5a13f52c57d1",
      "metadata": {
        "tags": [],
        "id": "01115789-cae2-4519-95d3-5a13f52c57d1"
      },
      "source": [
        "# Price"
      ]
    },
    {
      "cell_type": "code",
      "execution_count": null,
      "id": "aa89e324-b627-4fa6-a566-8463a553af13",
      "metadata": {
        "tags": [],
        "id": "aa89e324-b627-4fa6-a566-8463a553af13"
      },
      "outputs": [],
      "source": [
        "symbol = \"COST\"\n",
        "response = requests.get(f'https://api.gurufocus.com/public/user/{api_token}/stock/{symbol}/price?type=a')\n",
        "content = response.content\n",
        "price_data = json.loads(content.decode('utf8'))\n",
        "price = pd.DataFrame(price_data)"
      ]
    },
    {
      "cell_type": "code",
      "execution_count": null,
      "id": "735e724e-9fa1-469c-820d-8ff188817a0d",
      "metadata": {
        "tags": [],
        "id": "735e724e-9fa1-469c-820d-8ff188817a0d"
      },
      "outputs": [],
      "source": [
        "price.columns = [\"date\",'price']\n",
        "price[\"date\"] = pd.to_datetime(price[\"date\"])"
      ]
    },
    {
      "cell_type": "markdown",
      "id": "13c853ec-5f65-4c1a-8389-13603da3ce7b",
      "metadata": {
        "id": "13c853ec-5f65-4c1a-8389-13603da3ce7b"
      },
      "source": [
        "# Indicators"
      ]
    },
    {
      "cell_type": "code",
      "execution_count": null,
      "id": "236afd4c-ca2c-42d1-b717-385d58129b55",
      "metadata": {
        "id": "236afd4c-ca2c-42d1-b717-385d58129b55",
        "outputId": "deb9a179-0162-4bc2-cd6f-2fecb1eebd77"
      },
      "outputs": [
        {
          "data": {
            "text/plain": [
              "['price',\n",
              " 'revenue',\n",
              " 'revenue_estimate',\n",
              " 'net_income',\n",
              " 'pettm',\n",
              " 'price_to_owner_earnings',\n",
              " 'ps_ratio',\n",
              " 'pb_ratio',\n",
              " 'peg_ratio',\n",
              " 'yield']"
            ]
          },
          "execution_count": 20,
          "metadata": {},
          "output_type": "execute_result"
        }
      ],
      "source": [
        "indicators = pd.read_csv(\"indicators.csv\")\n",
        "indicators\n",
        "indicator = indicators.iloc[4:20].key\n",
        "indicators_list = list(indicators['key'])\n",
        "indicator = indicators_list[0:10]\n",
        "indicator"
      ]
    },
    {
      "cell_type": "code",
      "execution_count": null,
      "id": "be9425ea-b37b-428a-ba3a-aaf908c8c35e",
      "metadata": {
        "tags": [],
        "id": "be9425ea-b37b-428a-ba3a-aaf908c8c35e"
      },
      "outputs": [],
      "source": [
        "indicator = indicators_list[0:10]\n",
        "aux = [\"enterprise_value_to_revenue\",\"enterprise_value_to_ebitda\",\"enterprise_value_to_ebit\",\"earning_yield_greenblatt\",\"rate_of_return_value\",\"shiller_pe_ratio\",\"price_to_tangible_book\"\n",
        "       ,\"price_to_free_cash_flow\",\"price_to_operating_cash_flow\"]\n",
        "for i in aux:\n",
        "    indicator.append(i)\n",
        "indicator.pop(0)\n",
        "indicator.pop(0)\n",
        "indicator.pop(0)\n",
        "a =indicator.pop(0)"
      ]
    },
    {
      "cell_type": "code",
      "execution_count": null,
      "id": "7fbb1cbf-3bfd-4c1f-9550-5248391ddcc2",
      "metadata": {
        "id": "7fbb1cbf-3bfd-4c1f-9550-5248391ddcc2",
        "outputId": "b412bb97-da64-45ef-eca4-047d62523e31"
      },
      "outputs": [
        {
          "name": "stdout",
          "output_type": "stream",
          "text": [
            "|████████████████████████████████████████| 15/15 [100%] in 23.8s (0.65/s)       \n"
          ]
        }
      ],
      "source": [
        "data=price\n",
        "with alive_bar(len(indicator),force_tty=True) as bar:\n",
        "    for i in range(len(indicator)):\n",
        "        bar()\n",
        "        ind = indicator[i]\n",
        "        response = requests.get(f'https://api.gurufocus.com/public/user/{api_token}/stock/{symbol}/{ind}?type=a')\n",
        "        content = response.content\n",
        "        indicator_data = json.loads(content.decode('utf8'))\n",
        "        if(len(indicator_data)==0):\n",
        "            continue\n",
        "        else:\n",
        "            indicator_df = pd.DataFrame(indicator_data)\n",
        "            indicator_df[0] = pd.to_datetime(indicator_df[0])\n",
        "            indicator_df.columns = [\"date\",ind]\n",
        "            data = pd.merge(data,indicator_df,how=\"left\",on=[\"date\"])\n",
        "data.to_csv(symbol+\".csv\")"
      ]
    },
    {
      "cell_type": "code",
      "execution_count": null,
      "id": "db9e56f3-52f9-42ca-8bfc-6970b907165a",
      "metadata": {
        "tags": [],
        "id": "db9e56f3-52f9-42ca-8bfc-6970b907165a",
        "outputId": "32e6f983-5e98-4c29-b761-d0213ba693e9"
      },
      "outputs": [
        {
          "data": {
            "text/html": [
              "<div>\n",
              "<style scoped>\n",
              "    .dataframe tbody tr th:only-of-type {\n",
              "        vertical-align: middle;\n",
              "    }\n",
              "\n",
              "    .dataframe tbody tr th {\n",
              "        vertical-align: top;\n",
              "    }\n",
              "\n",
              "    .dataframe thead th {\n",
              "        text-align: right;\n",
              "    }\n",
              "</style>\n",
              "<table border=\"1\" class=\"dataframe\">\n",
              "  <thead>\n",
              "    <tr style=\"text-align: right;\">\n",
              "      <th></th>\n",
              "      <th>date</th>\n",
              "      <th>price</th>\n",
              "      <th>pettm</th>\n",
              "      <th>price_to_owner_earnings</th>\n",
              "      <th>ps_ratio</th>\n",
              "      <th>pb_ratio</th>\n",
              "      <th>peg_ratio</th>\n",
              "      <th>yield</th>\n",
              "      <th>enterprise_value_to_revenue</th>\n",
              "      <th>enterprise_value_to_ebitda</th>\n",
              "      <th>enterprise_value_to_ebit</th>\n",
              "      <th>earning_yield_greenblatt</th>\n",
              "      <th>rate_of_return_value</th>\n",
              "      <th>shiller_pe_ratio</th>\n",
              "      <th>price_to_tangible_book</th>\n",
              "      <th>price_to_free_cash_flow</th>\n",
              "      <th>price_to_operating_cash_flow</th>\n",
              "    </tr>\n",
              "  </thead>\n",
              "  <tbody>\n",
              "    <tr>\n",
              "      <th>0</th>\n",
              "      <td>1982-03-02</td>\n",
              "      <td>0.89</td>\n",
              "      <td>NaN</td>\n",
              "      <td>NaN</td>\n",
              "      <td>NaN</td>\n",
              "      <td>NaN</td>\n",
              "      <td>NaN</td>\n",
              "      <td>NaN</td>\n",
              "      <td>NaN</td>\n",
              "      <td>NaN</td>\n",
              "      <td>NaN</td>\n",
              "      <td>NaN</td>\n",
              "      <td>NaN</td>\n",
              "      <td>NaN</td>\n",
              "      <td>NaN</td>\n",
              "      <td>NaN</td>\n",
              "      <td>NaN</td>\n",
              "    </tr>\n",
              "    <tr>\n",
              "      <th>1</th>\n",
              "      <td>1982-03-03</td>\n",
              "      <td>0.86</td>\n",
              "      <td>NaN</td>\n",
              "      <td>NaN</td>\n",
              "      <td>NaN</td>\n",
              "      <td>NaN</td>\n",
              "      <td>NaN</td>\n",
              "      <td>NaN</td>\n",
              "      <td>NaN</td>\n",
              "      <td>NaN</td>\n",
              "      <td>NaN</td>\n",
              "      <td>NaN</td>\n",
              "      <td>NaN</td>\n",
              "      <td>NaN</td>\n",
              "      <td>NaN</td>\n",
              "      <td>NaN</td>\n",
              "      <td>NaN</td>\n",
              "    </tr>\n",
              "    <tr>\n",
              "      <th>2</th>\n",
              "      <td>1982-03-04</td>\n",
              "      <td>0.88</td>\n",
              "      <td>NaN</td>\n",
              "      <td>NaN</td>\n",
              "      <td>NaN</td>\n",
              "      <td>NaN</td>\n",
              "      <td>NaN</td>\n",
              "      <td>NaN</td>\n",
              "      <td>NaN</td>\n",
              "      <td>NaN</td>\n",
              "      <td>NaN</td>\n",
              "      <td>NaN</td>\n",
              "      <td>NaN</td>\n",
              "      <td>NaN</td>\n",
              "      <td>NaN</td>\n",
              "      <td>NaN</td>\n",
              "      <td>NaN</td>\n",
              "    </tr>\n",
              "    <tr>\n",
              "      <th>3</th>\n",
              "      <td>1982-03-05</td>\n",
              "      <td>0.88</td>\n",
              "      <td>NaN</td>\n",
              "      <td>NaN</td>\n",
              "      <td>NaN</td>\n",
              "      <td>NaN</td>\n",
              "      <td>NaN</td>\n",
              "      <td>NaN</td>\n",
              "      <td>NaN</td>\n",
              "      <td>NaN</td>\n",
              "      <td>NaN</td>\n",
              "      <td>NaN</td>\n",
              "      <td>NaN</td>\n",
              "      <td>NaN</td>\n",
              "      <td>NaN</td>\n",
              "      <td>NaN</td>\n",
              "      <td>NaN</td>\n",
              "    </tr>\n",
              "    <tr>\n",
              "      <th>4</th>\n",
              "      <td>1982-03-08</td>\n",
              "      <td>0.88</td>\n",
              "      <td>NaN</td>\n",
              "      <td>NaN</td>\n",
              "      <td>NaN</td>\n",
              "      <td>NaN</td>\n",
              "      <td>NaN</td>\n",
              "      <td>NaN</td>\n",
              "      <td>NaN</td>\n",
              "      <td>NaN</td>\n",
              "      <td>NaN</td>\n",
              "      <td>NaN</td>\n",
              "      <td>NaN</td>\n",
              "      <td>NaN</td>\n",
              "      <td>NaN</td>\n",
              "      <td>NaN</td>\n",
              "      <td>NaN</td>\n",
              "    </tr>\n",
              "    <tr>\n",
              "      <th>...</th>\n",
              "      <td>...</td>\n",
              "      <td>...</td>\n",
              "      <td>...</td>\n",
              "      <td>...</td>\n",
              "      <td>...</td>\n",
              "      <td>...</td>\n",
              "      <td>...</td>\n",
              "      <td>...</td>\n",
              "      <td>...</td>\n",
              "      <td>...</td>\n",
              "      <td>...</td>\n",
              "      <td>...</td>\n",
              "      <td>...</td>\n",
              "      <td>...</td>\n",
              "      <td>...</td>\n",
              "      <td>...</td>\n",
              "      <td>...</td>\n",
              "    </tr>\n",
              "    <tr>\n",
              "      <th>10387</th>\n",
              "      <td>2023-05-15</td>\n",
              "      <td>502.04</td>\n",
              "      <td>36.89</td>\n",
              "      <td>45.19</td>\n",
              "      <td>0.95</td>\n",
              "      <td>9.77</td>\n",
              "      <td>NaN</td>\n",
              "      <td>0.72</td>\n",
              "      <td>0.93</td>\n",
              "      <td>21.39</td>\n",
              "      <td>26.44</td>\n",
              "      <td>3.78</td>\n",
              "      <td>NaN</td>\n",
              "      <td>54.75</td>\n",
              "      <td>9.77</td>\n",
              "      <td>40.76</td>\n",
              "      <td>23.41</td>\n",
              "    </tr>\n",
              "    <tr>\n",
              "      <th>10388</th>\n",
              "      <td>2023-05-16</td>\n",
              "      <td>496.15</td>\n",
              "      <td>36.45</td>\n",
              "      <td>44.66</td>\n",
              "      <td>0.94</td>\n",
              "      <td>9.65</td>\n",
              "      <td>NaN</td>\n",
              "      <td>0.73</td>\n",
              "      <td>0.92</td>\n",
              "      <td>21.13</td>\n",
              "      <td>26.13</td>\n",
              "      <td>3.83</td>\n",
              "      <td>NaN</td>\n",
              "      <td>54.11</td>\n",
              "      <td>9.65</td>\n",
              "      <td>40.28</td>\n",
              "      <td>23.13</td>\n",
              "    </tr>\n",
              "    <tr>\n",
              "      <th>10389</th>\n",
              "      <td>2023-05-17</td>\n",
              "      <td>495.00</td>\n",
              "      <td>36.37</td>\n",
              "      <td>44.55</td>\n",
              "      <td>0.94</td>\n",
              "      <td>9.63</td>\n",
              "      <td>NaN</td>\n",
              "      <td>0.73</td>\n",
              "      <td>0.92</td>\n",
              "      <td>21.08</td>\n",
              "      <td>26.07</td>\n",
              "      <td>3.84</td>\n",
              "      <td>NaN</td>\n",
              "      <td>53.98</td>\n",
              "      <td>9.63</td>\n",
              "      <td>40.19</td>\n",
              "      <td>23.08</td>\n",
              "    </tr>\n",
              "    <tr>\n",
              "      <th>10390</th>\n",
              "      <td>2023-05-18</td>\n",
              "      <td>498.10</td>\n",
              "      <td>36.60</td>\n",
              "      <td>44.83</td>\n",
              "      <td>0.94</td>\n",
              "      <td>9.69</td>\n",
              "      <td>NaN</td>\n",
              "      <td>0.72</td>\n",
              "      <td>0.92</td>\n",
              "      <td>21.22</td>\n",
              "      <td>26.23</td>\n",
              "      <td>3.81</td>\n",
              "      <td>NaN</td>\n",
              "      <td>54.32</td>\n",
              "      <td>9.69</td>\n",
              "      <td>40.44</td>\n",
              "      <td>23.22</td>\n",
              "    </tr>\n",
              "    <tr>\n",
              "      <th>10391</th>\n",
              "      <td>2023-05-19</td>\n",
              "      <td>496.52</td>\n",
              "      <td>36.48</td>\n",
              "      <td>44.69</td>\n",
              "      <td>0.94</td>\n",
              "      <td>9.66</td>\n",
              "      <td>NaN</td>\n",
              "      <td>0.73</td>\n",
              "      <td>0.92</td>\n",
              "      <td>21.15</td>\n",
              "      <td>26.15</td>\n",
              "      <td>3.82</td>\n",
              "      <td>NaN</td>\n",
              "      <td>54.15</td>\n",
              "      <td>9.66</td>\n",
              "      <td>40.32</td>\n",
              "      <td>23.15</td>\n",
              "    </tr>\n",
              "  </tbody>\n",
              "</table>\n",
              "<p>10392 rows × 17 columns</p>\n",
              "</div>"
            ],
            "text/plain": [
              "            date   price  pettm  price_to_owner_earnings  ps_ratio  pb_ratio  \\\n",
              "0     1982-03-02    0.89    NaN                      NaN       NaN       NaN   \n",
              "1     1982-03-03    0.86    NaN                      NaN       NaN       NaN   \n",
              "2     1982-03-04    0.88    NaN                      NaN       NaN       NaN   \n",
              "3     1982-03-05    0.88    NaN                      NaN       NaN       NaN   \n",
              "4     1982-03-08    0.88    NaN                      NaN       NaN       NaN   \n",
              "...          ...     ...    ...                      ...       ...       ...   \n",
              "10387 2023-05-15  502.04  36.89                    45.19      0.95      9.77   \n",
              "10388 2023-05-16  496.15  36.45                    44.66      0.94      9.65   \n",
              "10389 2023-05-17  495.00  36.37                    44.55      0.94      9.63   \n",
              "10390 2023-05-18  498.10  36.60                    44.83      0.94      9.69   \n",
              "10391 2023-05-19  496.52  36.48                    44.69      0.94      9.66   \n",
              "\n",
              "       peg_ratio  yield  enterprise_value_to_revenue  \\\n",
              "0            NaN    NaN                          NaN   \n",
              "1            NaN    NaN                          NaN   \n",
              "2            NaN    NaN                          NaN   \n",
              "3            NaN    NaN                          NaN   \n",
              "4            NaN    NaN                          NaN   \n",
              "...          ...    ...                          ...   \n",
              "10387        NaN   0.72                         0.93   \n",
              "10388        NaN   0.73                         0.92   \n",
              "10389        NaN   0.73                         0.92   \n",
              "10390        NaN   0.72                         0.92   \n",
              "10391        NaN   0.73                         0.92   \n",
              "\n",
              "       enterprise_value_to_ebitda  enterprise_value_to_ebit  \\\n",
              "0                             NaN                       NaN   \n",
              "1                             NaN                       NaN   \n",
              "2                             NaN                       NaN   \n",
              "3                             NaN                       NaN   \n",
              "4                             NaN                       NaN   \n",
              "...                           ...                       ...   \n",
              "10387                       21.39                     26.44   \n",
              "10388                       21.13                     26.13   \n",
              "10389                       21.08                     26.07   \n",
              "10390                       21.22                     26.23   \n",
              "10391                       21.15                     26.15   \n",
              "\n",
              "       earning_yield_greenblatt  rate_of_return_value  shiller_pe_ratio  \\\n",
              "0                           NaN                   NaN               NaN   \n",
              "1                           NaN                   NaN               NaN   \n",
              "2                           NaN                   NaN               NaN   \n",
              "3                           NaN                   NaN               NaN   \n",
              "4                           NaN                   NaN               NaN   \n",
              "...                         ...                   ...               ...   \n",
              "10387                      3.78                   NaN             54.75   \n",
              "10388                      3.83                   NaN             54.11   \n",
              "10389                      3.84                   NaN             53.98   \n",
              "10390                      3.81                   NaN             54.32   \n",
              "10391                      3.82                   NaN             54.15   \n",
              "\n",
              "       price_to_tangible_book  price_to_free_cash_flow  \\\n",
              "0                         NaN                      NaN   \n",
              "1                         NaN                      NaN   \n",
              "2                         NaN                      NaN   \n",
              "3                         NaN                      NaN   \n",
              "4                         NaN                      NaN   \n",
              "...                       ...                      ...   \n",
              "10387                    9.77                    40.76   \n",
              "10388                    9.65                    40.28   \n",
              "10389                    9.63                    40.19   \n",
              "10390                    9.69                    40.44   \n",
              "10391                    9.66                    40.32   \n",
              "\n",
              "       price_to_operating_cash_flow  \n",
              "0                               NaN  \n",
              "1                               NaN  \n",
              "2                               NaN  \n",
              "3                               NaN  \n",
              "4                               NaN  \n",
              "...                             ...  \n",
              "10387                         23.41  \n",
              "10388                         23.13  \n",
              "10389                         23.08  \n",
              "10390                         23.22  \n",
              "10391                         23.15  \n",
              "\n",
              "[10392 rows x 17 columns]"
            ]
          },
          "execution_count": 23,
          "metadata": {},
          "output_type": "execute_result"
        }
      ],
      "source": [
        "data"
      ]
    },
    {
      "cell_type": "code",
      "execution_count": null,
      "id": "7e35b0b5-71a7-444a-80c3-40ba825a7610",
      "metadata": {
        "tags": [],
        "id": "7e35b0b5-71a7-444a-80c3-40ba825a7610"
      },
      "outputs": [],
      "source": [
        "data = pd.read_csv(symbol+\".csv\")"
      ]
    },
    {
      "cell_type": "code",
      "execution_count": null,
      "id": "d0db4474-5af0-434e-9c37-de4a7393473d",
      "metadata": {
        "tags": [],
        "id": "d0db4474-5af0-434e-9c37-de4a7393473d",
        "outputId": "109f33ff-8369-4462-821d-b895f3e57a7c"
      },
      "outputs": [
        {
          "name": "stdout",
          "output_type": "stream",
          "text": [
            "                              Correlation       abs\n",
            "price                            1.000000  1.000000\n",
            "price_to_tangible_book           0.938530  0.938530\n",
            "pb_ratio                         0.938478  0.938478\n",
            "peg_ratio                        0.906292  0.906292\n",
            "enterprise_value_to_revenue      0.874622  0.874622\n",
            "ps_ratio                         0.859515  0.859515\n",
            "enterprise_value_to_ebitda       0.777684  0.777684\n",
            "pettm                            0.616404  0.616404\n",
            "earning_yield_greenblatt        -0.593954  0.593954\n",
            "enterprise_value_to_ebit         0.592068  0.592068\n",
            "price_to_operating_cash_flow     0.577808  0.577808\n",
            "shiller_pe_ratio                 0.562894  0.562894\n",
            "rate_of_return_value            -0.524376  0.524376\n",
            "yield                           -0.523558  0.523558\n",
            "price_to_free_cash_flow         -0.149740  0.149740\n",
            "price_to_owner_earnings         -0.147212  0.147212\n"
          ]
        }
      ],
      "source": [
        "symbol=\"\"\n",
        "data.replace(0, np.nan, inplace=True)\n",
        "metrics_correlation = data.corr()['price'].iloc[1:]\n",
        "metrics_correlation_abs = metrics_correlation.map(abs)\n",
        "metrics_correlation_abs = pd.DataFrame(metrics_correlation_abs)\n",
        "metrics_correlation = pd.DataFrame(metrics_correlation)\n",
        "metrics = pd.concat([metrics_correlation,metrics_correlation_abs],axis=1)\n",
        "metrics.columns=['Correlation', 'abs']\n",
        "metrics = metrics.sort_values(by=\"abs\",ascending=False)\n",
        "metrics.to_csv(symbol+\"_results.csv\")\n",
        "print(metrics)"
      ]
    },
    {
      "cell_type": "markdown",
      "id": "a72b8a26-470c-4d6f-b0e1-b4b341dcaa0e",
      "metadata": {
        "id": "a72b8a26-470c-4d6f-b0e1-b4b341dcaa0e"
      },
      "source": [
        "# Script for symbol"
      ]
    },
    {
      "cell_type": "code",
      "execution_count": null,
      "id": "55d1c191-6333-4be9-b81c-2a66286cd6ba",
      "metadata": {
        "tags": [],
        "id": "55d1c191-6333-4be9-b81c-2a66286cd6ba"
      },
      "outputs": [],
      "source": [
        "indicators = pd.read_csv(\"indicators.csv\")\n",
        "indicators\n",
        "indicator = indicators.iloc[4:20].key\n",
        "indicators_list = list(indicators['key'])\n",
        "indicator = indicators_list[0:10]\n",
        "indicator = indicators_list[0:10]\n",
        "aux = [\"enterprise_value_to_revenue\",\"enterprise_value_to_ebitda\",\"enterprise_value_to_ebit\",\"earning_yield_greenblatt\",\"rate_of_return_value\",\"shiller_pe_ratio\",\"price_to_tangible_book\"\n",
        "       ,\"price_to_free_cash_flow\",\"price_to_operating_cash_flow\"]\n",
        "for i in aux:\n",
        "    indicator.append(i)\n",
        "indicator.pop(0)\n",
        "indicator.pop(0)\n",
        "indicator.pop(0)\n",
        "a =indicator.pop(0)\n",
        "#Please run this command if this is the first time getting the information, if not run get results Correlation\n",
        "def getCorrelations(symbol):\n",
        "    indicators = pd.read_csv(\"indicators.csv\")\n",
        "    api_token = \"55bb5f7a051cefa4483b892d4115fb49:afd837a03ca494a823f6b20cb016f142\"\n",
        "    response = requests.get(f'https://api.gurufocus.com/public/user/{api_token}/stock/{symbol}/price?type=a')\n",
        "    content = response.content\n",
        "    price_data = json.loads(content.decode('utf8'))\n",
        "    if(len(price_data) == 0 or type(price_data) is dict):\n",
        "        print(\"Could not get price data\")\n",
        "        return\n",
        "    price = pd.DataFrame(price_data)\n",
        "    price.columns = [\"date\",'price']\n",
        "    price[\"date\"] = pd.to_datetime(price[\"date\"])\n",
        "    data=price\n",
        "    with alive_bar(len(indicator),force_tty=True) as bar:\n",
        "        for i in range(len(indicator)):\n",
        "            bar()\n",
        "            ind = indicator[i]\n",
        "            response = requests.get(f'https://api.gurufocus.com/public/user/{api_token}/stock/{symbol}/{ind}?type=a')\n",
        "            content = response.content\n",
        "            indicator_data = json.loads(content.decode('utf8'))\n",
        "            if(len(indicator_data)==0):\n",
        "                print(f\"Impossible to found data for {symbol} for metric: {ind}\")\n",
        "            else:\n",
        "                indicator_df = pd.DataFrame(indicator_data)\n",
        "                indicator_df[0] = pd.to_datetime(indicator_df[0])\n",
        "                indicator_df.columns = [\"date\",ind]\n",
        "                data = pd.merge(data,indicator_df,how=\"left\",on=[\"date\"])\n",
        "    data.to_csv(symbol+\".csv\")\n",
        "    data = pd.read_csv(symbol+\".csv\")\n",
        "    data.replace(0, np.nan, inplace=True)\n",
        "    metrics_correlation = data.corr()['price'].iloc[1:]\n",
        "    metrics_correlation_abs = metrics_correlation.map(abs)\n",
        "    metrics_correlation_abs = pd.DataFrame(metrics_correlation_abs)\n",
        "    metrics_correlation = pd.DataFrame(metrics_correlation)\n",
        "    metrics = pd.concat([metrics_correlation,metrics_correlation_abs],axis=1)\n",
        "    metrics.columns=['Correlation', 'abs']\n",
        "    metrics = metrics.sort_values(by=\"abs\",ascending=False)\n",
        "    metrics.to_csv(symbol+\"_results.csv\")\n",
        "    metrics = pd.read_csv(symbol+\"_results.csv\")\n",
        "    print(f\"The best historical metric is {metrics.iloc[1][0]} with correlation {metrics.iloc[1]['Correlation']}\")"
      ]
    },
    {
      "cell_type": "code",
      "execution_count": null,
      "id": "e021b5c4-6a47-4f7e-b44e-e2a311056383",
      "metadata": {
        "tags": [],
        "id": "e021b5c4-6a47-4f7e-b44e-e2a311056383"
      },
      "outputs": [],
      "source": [
        "def getCorrelationResults(symbol):\n",
        "    metrics = pd.read_csv(symbol+\"_results.csv\")\n",
        "    print(f\"The best historical metric is {metrics.iloc[1][0]} with correlation {metrics.iloc[1]['Correlation']}\")"
      ]
    },
    {
      "cell_type": "code",
      "execution_count": null,
      "id": "26bb8544-9fb4-4467-b880-8d0e7f6b811f",
      "metadata": {
        "tags": [],
        "id": "26bb8544-9fb4-4467-b880-8d0e7f6b811f",
        "outputId": "eea4f341-8d9b-4b9c-a69a-549f733e5f7f"
      },
      "outputs": [
        {
          "data": {
            "text/plain": [
              "['/home/robdres/gurufocus/GuruFocusAPI']"
            ]
          },
          "execution_count": 53,
          "metadata": {},
          "output_type": "execute_result"
        }
      ],
      "source": [
        "!!pwd"
      ]
    },
    {
      "cell_type": "code",
      "execution_count": null,
      "id": "33384843-5d73-4e06-a239-4ccde769e2ce",
      "metadata": {
        "tags": [],
        "id": "33384843-5d73-4e06-a239-4ccde769e2ce",
        "outputId": "01f2fe54-de85-4707-a4d0-96abe1e08d57"
      },
      "outputs": [
        {
          "name": "stdout",
          "output_type": "stream",
          "text": [
            "  Unnamed: 0  Correlation  abs\n",
            "0      price          1.0  1.0\n"
          ]
        }
      ],
      "source": [
        "metrics = pd.read_csv(\"COST_results.csv\")\n",
        "print(metrics)"
      ]
    },
    {
      "cell_type": "code",
      "execution_count": null,
      "id": "6664bdd8-0545-4b30-8ecc-d3b6e404bd6b",
      "metadata": {
        "tags": [],
        "id": "6664bdd8-0545-4b30-8ecc-d3b6e404bd6b"
      },
      "outputs": [],
      "source": [
        "def getResults(symbol):\n",
        "    print(\"Getting data for \" + symbol) \n",
        "    print()\n",
        "    if(not os.path.exists(symbol+\".csv\")):\n",
        "        getCorrelations(symbol)\n",
        "    else:\n",
        "        getCorrelationResults(symbol)\n",
        "    print(\"------------------------------------------------------------------\")"
      ]
    },
    {
      "cell_type": "markdown",
      "id": "bcf87fe4-184a-49d9-8f8e-1d917f8a66a8",
      "metadata": {
        "id": "bcf87fe4-184a-49d9-8f8e-1d917f8a66a8"
      },
      "source": [
        "# Getting results"
      ]
    },
    {
      "cell_type": "code",
      "execution_count": null,
      "id": "464fbdb7-9f9c-4188-8154-8ca7e53dcad9",
      "metadata": {
        "tags": [],
        "id": "464fbdb7-9f9c-4188-8154-8ca7e53dcad9",
        "outputId": "3f02f7cf-7452-4793-8daf-dc3c29c368d8"
      },
      "outputs": [
        {
          "name": "stdout",
          "output_type": "stream",
          "text": [
            "Getting data for AAPL\n",
            "\n",
            "The best historical metric is pb_ratio with correlation 0.9572152281081412\n",
            "------------------------------------------------------------------\n",
            "Getting data for ANET\n",
            "\n",
            "The best historical metric is shiller_pe_ratio with correlation 0.8767241559003951\n",
            "------------------------------------------------------------------\n",
            "Getting data for ASML\n",
            "\n",
            "The best historical metric is price_to_tangible_book with correlation 0.8168078798994568\n",
            "------------------------------------------------------------------\n",
            "Getting data for CHGCY\n",
            "\n",
            "The best historical metric is pb_ratio with correlation 0.9578621580311536\n",
            "------------------------------------------------------------------\n",
            "Getting data for KO\n",
            "\n",
            "The best historical metric is price_to_tangible_book with correlation 0.5270023023002142\n",
            "------------------------------------------------------------------\n",
            "Getting data for COST\n",
            "\n",
            "The best historical metric is price_to_tangible_book with correlation 0.9385298249093126\n",
            "------------------------------------------------------------------\n",
            "Getting data for DLICY\n",
            "\n",
            "The best historical metric is price with correlation 1.0\n",
            "------------------------------------------------------------------\n",
            "Getting data for DTEGN\n",
            "\n",
            "Could not get price data\n",
            "------------------------------------------------------------------\n",
            "Getting data for LLY\n",
            "\n",
            "The best historical metric is price_to_tangible_book with correlation 0.7728126121784801\n",
            "------------------------------------------------------------------\n",
            "Getting data for XOM\n",
            "\n",
            "The best historical metric is peg_ratio with correlation -0.4506759951422932\n",
            "------------------------------------------------------------------\n",
            "Getting data for RACE\n",
            "\n",
            "The best historical metric is rate_of_return_value with correlation -0.9416837138908156\n",
            "------------------------------------------------------------------\n",
            "Getting data for GETIB\n",
            "\n",
            "Could not get price data\n",
            "------------------------------------------------------------------\n",
            "Getting data for HON\n",
            "\n",
            "The best historical metric is ps_ratio with correlation 0.9787073234513262\n",
            "------------------------------------------------------------------\n",
            "Getting data for ITX\n",
            "\n",
            "Could not get price data\n",
            "------------------------------------------------------------------\n",
            "Getting data for JPM\n",
            "\n",
            "on 8: Impossible to found data for JPM for metric: enterprise_value_to_ebitda   \n",
            "on 9: Impossible to found data for JPM for metric: enterprise_value_to_ebit     \n",
            "on 10: Impossible to found data for JPM for metric: earning_yield_greenblatt    \n",
            "|████████████████████████████████████████| 15/15 [100%] in 27.8s (0.55/s)       \n",
            "The best historical metric is ps_ratio with correlation 0.7753369802035925\n",
            "------------------------------------------------------------------\n",
            "Getting data for LGFRY\n",
            "\n",
            "|████████████████████████████████████████| 15/15 [100%] in 11.2s (1.37/s)       \n",
            "The best historical metric is rate_of_return_value with correlation 0.8471341412143943\n",
            "------------------------------------------------------------------\n",
            "Getting data for OREP\n",
            "\n",
            "Could not get price data\n",
            "------------------------------------------------------------------\n",
            "Getting data for LULU\n",
            "\n",
            "on 6: Impossible to found data for LULU for metric: yield                       \n",
            "|████████████████████████████████████████| 15/15 [100%] in 14.8s (1.04/s)       \n",
            "The best historical metric is shiller_pe_ratio with correlation 0.852648219493907\n",
            "------------------------------------------------------------------\n",
            "Getting data for MQG\n",
            "\n",
            "Could not get price data\n",
            "------------------------------------------------------------------\n",
            "Getting data for MSFT\n",
            "\n",
            "|████████████████████████████████████████| 15/15 [100%] in 30.5s (0.50/s)       \n",
            "The best historical metric is price_to_tangible_book with correlation 0.7456785119568727\n",
            "------------------------------------------------------------------\n",
            "Getting data for MSCI\n",
            "\n",
            "|████████████████████████████████████████| 15/15 [100%] in 14.9s (1.03/s)       \n",
            "The best historical metric is price_to_tangible_book with correlation 0.9999999202663536\n",
            "------------------------------------------------------------------\n",
            "Getting data for NESN\n",
            "\n",
            "Could not get price data\n",
            "------------------------------------------------------------------\n",
            "Getting data for NKE\n",
            "\n",
            "|████████████████████████████████████████| 15/15 [100%] in 32.5s (0.47/s)       \n",
            "The best historical metric is ps_ratio with correlation 0.9635309243349394\n",
            "------------------------------------------------------------------\n",
            "Getting data for NTDOY\n",
            "\n",
            "|████████████████████████████████████████| 15/15 [100%] in 18.1s (0.85/s)       \n",
            "The best historical metric is price_to_tangible_book with correlation 0.8426398425713447\n",
            "------------------------------------------------------------------\n",
            "Getting data for NOVO\n",
            "\n",
            "Could not get price data\n",
            "------------------------------------------------------------------\n",
            "Getting data for ORSTED\n",
            "\n",
            "Could not get price data\n",
            "------------------------------------------------------------------\n",
            "Getting data for RIO\n",
            "\n",
            "|████████████████████████████████████████| 15/15 [100%] in 19.7s (0.78/s)       \n",
            "The best historical metric is rate_of_return_value with correlation 0.5483646716610434\n",
            "------------------------------------------------------------------\n",
            "Getting data for SSDIF\n",
            "\n",
            "Could not get price data\n",
            "------------------------------------------------------------------\n",
            "Getting data for SHIN\n",
            "\n",
            "Could not get price data\n",
            "------------------------------------------------------------------\n",
            "Getting data for TCS\n",
            "\n",
            "on 6: Impossible to found data for TCS for metric: yield                        \n",
            "|████████████████████████████████████████| 15/15 [100%] in 11.0s (1.40/s)       \n",
            "The best historical metric is pb_ratio with correlation 0.9763398532580954\n",
            "------------------------------------------------------------------\n",
            "Getting data for TE\n",
            "\n",
            "Could not get price data\n",
            "------------------------------------------------------------------\n",
            "Getting data for V\n",
            "\n",
            "|████████████████████████████████████████| 15/15 [100%] in 15.6s (0.98/s)       \n",
            "The best historical metric is pb_ratio with correlation 0.981908485260175\n",
            "------------------------------------------------------------------\n",
            "Getting data for WEGE3\n",
            "\n",
            "Could not get price data\n",
            "------------------------------------------------------------------\n",
            "Getting data for WLSN\n",
            "\n",
            "Could not get price data\n",
            "------------------------------------------------------------------\n"
          ]
        }
      ],
      "source": [
        "import os\n",
        "for i in symbols:\n",
        "    getResults(i)"
      ]
    },
    {
      "cell_type": "markdown",
      "source": [
        "# Funcionalidad\n",
        "\n",
        "Para hacer uso correr todas las celdas de esta sección para tener las funciones activas, e ir a la ultima sección"
      ],
      "metadata": {
        "id": "kXeKwbiUygTs"
      },
      "id": "kXeKwbiUygTs"
    },
    {
      "cell_type": "code",
      "source": [
        "!pip3 install alive_progress"
      ],
      "metadata": {
        "colab": {
          "base_uri": "https://localhost:8080/"
        },
        "id": "ezgIPkhE0XZ3",
        "outputId": "00e4ffa6-b815-4d1c-de41-aa6a4e9a125c"
      },
      "id": "ezgIPkhE0XZ3",
      "execution_count": null,
      "outputs": [
        {
          "output_type": "stream",
          "name": "stdout",
          "text": [
            "Looking in indexes: https://pypi.org/simple, https://us-python.pkg.dev/colab-wheels/public/simple/\n",
            "Requirement already satisfied: alive_progress in /usr/local/lib/python3.10/dist-packages (3.1.2)\n",
            "Requirement already satisfied: about-time==4.2.1 in /usr/local/lib/python3.10/dist-packages (from alive_progress) (4.2.1)\n",
            "Requirement already satisfied: grapheme==0.6.0 in /usr/local/lib/python3.10/dist-packages (from alive_progress) (0.6.0)\n"
          ]
        }
      ]
    },
    {
      "cell_type": "code",
      "source": [
        "import requests\n",
        "import pandas as pd\n",
        "import json\n",
        "import matplotlib.pyplot as plt\n",
        "from alive_progress import alive_bar\n",
        "import numpy as np\n",
        "\n",
        "api_token = \"<api-token>\""
      ],
      "metadata": {
        "id": "pjqcWngE0V2r"
      },
      "id": "pjqcWngE0V2r",
      "execution_count": null,
      "outputs": []
    },
    {
      "cell_type": "code",
      "source": [
        "aux = ['pettm', 'price_to_owner_earnings', 'ps_ratio', 'pb_ratio', 'peg_ratio', 'yield', 'enterprise_value_to_revenue', 'enterprise_value_to_ebitda', 'enterprise_value_to_ebit', 'earning_yield_greenblatt', 'rate_of_return_value', 'shiller_pe_ratio', 'price_to_tangible_book', 'price_to_free_cash_flow', 'price_to_operating_cash_flow']\n",
        "indicator = aux\n",
        "\n",
        "#Script para hacer un requests \n",
        "def getCorrelations(symbol):\n",
        "    response = requests.get(f'https://api.gurufocus.com/public/user/{api_token}/stock/{symbol}/price?type=a')\n",
        "    content = response.content\n",
        "    price_data = json.loads(content.decode('utf8'))\n",
        "    if(len(price_data) == 0 or type(price_data) is dict):\n",
        "        print(\"Could not get price data\")\n",
        "        return\n",
        "    price = pd.DataFrame(price_data)\n",
        "    price.columns = [\"date\",'price']\n",
        "    price[\"date\"] = pd.to_datetime(price[\"date\"])\n",
        "    data=price\n",
        "    with alive_bar(len(indicator),force_tty=True) as bar:\n",
        "        for i in range(len(indicator)):\n",
        "            bar()\n",
        "            ind = indicator[i]\n",
        "            response = requests.get(f'https://api.gurufocus.com/public/user/{api_token}/stock/{symbol}/{ind}?type=a')\n",
        "            content = response.content\n",
        "            indicator_data = json.loads(content.decode('utf8'))\n",
        "            if(len(indicator_data)==0):\n",
        "                print(f\"Impossible to found data for {symbol} for metric: {ind}\")\n",
        "            else:\n",
        "                indicator_df = pd.DataFrame(indicator_data)\n",
        "                indicator_df[0] = pd.to_datetime(indicator_df[0])\n",
        "                indicator_df.columns = [\"date\",ind]\n",
        "                data = pd.merge(data,indicator_df,how=\"left\",on=[\"date\"])\n",
        "    data.to_csv(symbol+\".csv\")\n",
        "    data = pd.read_csv(symbol+\".csv\")\n",
        "    data.replace(0, np.nan, inplace=True)\n",
        "    metrics_correlation = data.corr()['price'].iloc[1:]\n",
        "    metrics_correlation_abs = metrics_correlation.map(abs)\n",
        "    metrics_correlation_abs = pd.DataFrame(metrics_correlation_abs)\n",
        "    metrics_correlation = pd.DataFrame(metrics_correlation)\n",
        "    metrics = pd.concat([metrics_correlation,metrics_correlation_abs],axis=1)\n",
        "    metrics.columns=['Correlation', 'abs']\n",
        "    metrics = metrics.sort_values(by=\"abs\",ascending=False)\n",
        "    metrics.to_csv(symbol+\"_results.csv\")\n",
        "    metrics = pd.read_csv(symbol+\"_results.csv\")\n",
        "    print(f\"The best historical metric is {metrics.iloc[1][0]} with correlation {metrics.iloc[1]['Correlation']}\")\n",
        "\n",
        "#Function if already data requested\n",
        "def getCorrelationResults(symbol):\n",
        "    metrics = pd.read_csv(symbol+\"_results.csv\")\n",
        "    print(f\"The best historical metric is {metrics.iloc[1][0]} with correlation {metrics.iloc[1]['Correlation']}\")\n",
        "    \n",
        "#Function to run and get the metrics for the best\n",
        "def getResults(symbol):\n",
        "    print(\"Getting data for \" + symbol) \n",
        "    print()\n",
        "    if(not os.path.exists(symbol+\".csv\")):\n",
        "        getCorrelations(symbol)\n",
        "    else:\n",
        "        getCorrelationResults(symbol)\n",
        "    print(\"------------------------------------------------------------------\")"
      ],
      "metadata": {
        "id": "0imSXeMyym__"
      },
      "id": "0imSXeMyym__",
      "execution_count": null,
      "outputs": []
    },
    {
      "cell_type": "markdown",
      "source": [
        "# Función para conseguir los valores de mlas métricas y mejor correlación\n",
        "En este caso como google colab no permite tener guardado archivos, cada vez que se llame a esta función se va a descargar los datos e utilizar 20 requests de gurufocus API!.\n",
        "Por lo que se recomienda que si ya se tienen los datos para ese símbolo no se debería volver a hacer la llamada. Dentro de este repositorio se encuentran los símbolos que ya se corrieron\n",
        "https://github.com/Robdres/gurufocus/tree/main/GuruFocusAPI\n",
        "Entonces si se quiere encontrar los resultados para un símbolo se recomienda revisar si ya está dentro del repositorio."
      ],
      "metadata": {
        "id": "mrbg7IAQ0gcz"
      },
      "id": "mrbg7IAQ0gcz"
    },
    {
      "cell_type": "code",
      "source": [
        "api_token = \"<api-token>\"\n",
        "symbol = \"<symbol>\"\n",
        "\n",
        "getResults(symbol)"
      ],
      "metadata": {
        "id": "IxHTjmS2ydwB"
      },
      "id": "IxHTjmS2ydwB",
      "execution_count": null,
      "outputs": []
    }
  ],
  "metadata": {
    "kernelspec": {
      "display_name": "Python 3 (ipykernel)",
      "language": "python",
      "name": "python3"
    },
    "language_info": {
      "codemirror_mode": {
        "name": "ipython",
        "version": 3
      },
      "file_extension": ".py",
      "mimetype": "text/x-python",
      "name": "python",
      "nbconvert_exporter": "python",
      "pygments_lexer": "ipython3",
      "version": "3.10.10"
    },
    "colab": {
      "provenance": [],
      "include_colab_link": true
    }
  },
  "nbformat": 4,
  "nbformat_minor": 5
}